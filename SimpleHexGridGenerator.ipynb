{
  "nbformat": 4,
  "nbformat_minor": 0,
  "metadata": {
    "colab": {
      "name": "SimpleHexGridGenerator.ipynb",
      "version": "0.3.2",
      "provenance": [],
      "collapsed_sections": [],
      "include_colab_link": true
    },
    "kernelspec": {
      "name": "python3",
      "display_name": "Python 3"
    }
  },
  "cells": [
    {
      "cell_type": "markdown",
      "metadata": {
        "id": "view-in-github",
        "colab_type": "text"
      },
      "source": [
        "<a href=\"https://colab.research.google.com/github/nsp8/HexGridGenerator/blob/master/SimpleHexGridGenerator.ipynb\" target=\"_parent\"><img src=\"https://colab.research.google.com/assets/colab-badge.svg\" alt=\"Open In Colab\"/></a>"
      ]
    },
    {
      "cell_type": "markdown",
      "metadata": {
        "id": "CmttJs5Ibwj5",
        "colab_type": "text"
      },
      "source": [
        "# HexGrid generator of a set of countries on the world map\n",
        "### Using libraries like: GeoPandas and GeoJSON"
      ]
    },
    {
      "cell_type": "code",
      "metadata": {
        "id": "HJsmq3pkaNdk",
        "colab_type": "code",
        "colab": {}
      },
      "source": [
        "!pip install geojson geopandas"
      ],
      "execution_count": 0,
      "outputs": []
    },
    {
      "cell_type": "code",
      "metadata": {
        "id": "AXasf4uvaV2w",
        "colab_type": "code",
        "colab": {}
      },
      "source": [
        "from google.colab import drive\n",
        "import geojson\n",
        "import geopandas as gpd\n",
        "import json\n",
        "import math\n",
        "import os\n",
        "import pandas as pd"
      ],
      "execution_count": 0,
      "outputs": []
    },
    {
      "cell_type": "code",
      "metadata": {
        "id": "XU7TF_KOaXcD",
        "colab_type": "code",
        "colab": {}
      },
      "source": [
        "def get_regular_hex_coords(x, y, r):\n",
        "#     r = math.sqrt(x**2 + y**2)\n",
        "#     print(\"country: {}\\tradius: {}\".format(c, r))\n",
        "    coords_ = list()\n",
        "    n = 6\n",
        "    base_angle = 360 // n\n",
        "    for i in range(n):\n",
        "        relative_angle = ((base_angle * i) + (base_angle // 2)) * (math.pi / 180)\n",
        "        coord_ = [x + (r * math.cos(relative_angle)), y + (r * math.sin(relative_angle))]\n",
        "        coords_.append(coord_)\n",
        "    coords_.append(coords_[0])\n",
        "    return coords_"
      ],
      "execution_count": 0,
      "outputs": []
    },
    {
      "cell_type": "code",
      "metadata": {
        "id": "oKqs5Jk-aZ3r",
        "colab_type": "code",
        "colab": {}
      },
      "source": [
        "input_directory = '/gdrive/My Drive/input_folder/'\n",
        "output_directory = '/gdrive/My Drive/output_folder/'"
      ],
      "execution_count": 0,
      "outputs": []
    },
    {
      "cell_type": "markdown",
      "metadata": {
        "id": "elg0vWSlcSn7",
        "colab_type": "text"
      },
      "source": [
        "### After this cell executes, it will prompt you to authorize your Google account.\n",
        "- Click on the link as described below\n",
        "- Select a Google account for authorization\n",
        "- Copy the code and paste it in the space below and you are all set!"
      ]
    },
    {
      "cell_type": "code",
      "metadata": {
        "id": "KxAFEDqNaoOB",
        "colab_type": "code",
        "colab": {}
      },
      "source": [
        "hexcode_file = os.path.join(input_directory, 'hexcodes_expanded.csv')\n",
        "drive.mount('/gdrive')\n",
        "with open(hexcode_file, 'r') as hexcode_maps:\n",
        "    hexcodes = pd.read_csv(hexcode_maps, encoding=\"UTF-8\")"
      ],
      "execution_count": 0,
      "outputs": []
    },
    {
      "cell_type": "code",
      "metadata": {
        "id": "88C6LCl3aq5D",
        "colab_type": "code",
        "colab": {}
      },
      "source": [
        "countries = hexcodes[\"id\"]\n",
        "country_param = lambda c, i: hexcodes[countries == c][i].squeeze()"
      ],
      "execution_count": 0,
      "outputs": []
    },
    {
      "cell_type": "code",
      "metadata": {
        "id": "5EOG-jSCassE",
        "colab_type": "code",
        "colab": {}
      },
      "source": [
        "world_hex = geojson.FeatureCollection(features=[])\n",
        "i = 0\n",
        "radius = 1 / math.sin(math.pi/3)\n",
        "for country in list(countries):\n",
        "#     print(\"country = {}\".format(country))\n",
        "    params = {\"label\": country,\n",
        "              \"x\": int(country_param(country, \"x\")),\n",
        "              \"y\": int(country_param(country, \"y\"))\n",
        "             }\n",
        "    hex_coords = get_regular_hex_coords(params[\"x\"], params[\"y\"], radius)\n",
        "    country_hexagon = geojson.Polygon([hex_coords])\n",
        "    country_feature = geojson.Feature(geometry=country_hexagon, \n",
        "                                      properties=params)\n",
        "    world_hex[\"features\"].append(country_feature)\n",
        "    i += 1\n"
      ],
      "execution_count": 0,
      "outputs": []
    },
    {
      "cell_type": "code",
      "metadata": {
        "id": "gZdaiYDBauQ3",
        "colab_type": "code",
        "colab": {}
      },
      "source": [
        "out_file = os.path.join(output_directory, 'new_output.geojson')\n",
        "with open(out_file, \"w\") as output:\n",
        "    json.dump(world_hex, output, indent=4)"
      ],
      "execution_count": 0,
      "outputs": []
    },
    {
      "cell_type": "markdown",
      "metadata": {
        "id": "Imt5-_AAbJVR",
        "colab_type": "text"
      },
      "source": [
        "### This GeoJSON file can be visualized in Flourish\n",
        "Something like this: https://app.flourish.studio/visualisation/636299"
      ]
    }
  ]
}